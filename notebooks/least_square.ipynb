{
 "cells": [
  {
   "cell_type": "code",
   "execution_count": null,
   "metadata": {
    "vscode": {
     "languageId": "plaintext"
    }
   },
   "outputs": [],
   "source": [
    "import numpy as np\n",
    "import matplotlib.pyplot as plt\n",
    "\n",
    "# Define the input matrix X and target vector y\n",
    "X = np.array([[1, 1],   # Include bias term for intercept\n",
    "              [1, 2],\n",
    "              [1, 3],\n",
    "              [1, 4]])\n",
    "\n",
    "y = np.array([6, 5, 7, 10])  # Target values\n",
    "\n",
    "# Calculate beta using the normal equation: beta = (X^T X)^(-1) X^T y\n",
    "X_transpose = X.T\n",
    "beta = np.linalg.inv(X_transpose @ X) @ X_transpose @ y\n",
    "\n",
    "# Generate predictions\n",
    "y_pred = X @ beta\n",
    "\n",
    "# Plot the results\n",
    "plt.figure(figsize=(8, 6))\n",
    "\n",
    "# Scatter plot of actual data\n",
    "plt.scatter(X[:, 1], y, color='blue', label='Actual data')\n",
    "\n",
    "# Regression line\n",
    "plt.plot(X[:, 1], y_pred, color='red', label='Regression line')\n",
    "\n",
    "# Labels and legend\n",
    "plt.xlabel('X (Independent variable)')\n",
    "plt.ylabel('y (Dependent variable)')\n",
    "plt.title('Linear Regression Result')\n",
    "plt.legend()\n",
    "\n",
    "# Show the plot\n",
    "plt.grid()\n",
    "plt.show()\n"
   ]
  }
 ],
 "metadata": {
  "language_info": {
   "name": "python"
  }
 },
 "nbformat": 4,
 "nbformat_minor": 2
}
